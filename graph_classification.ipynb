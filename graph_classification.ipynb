{
 "cells": [
  {
   "cell_type": "markdown",
   "metadata": {},
   "source": [
    "# Imports"
   ]
  },
  {
   "cell_type": "code",
   "execution_count": 1,
   "metadata": {},
   "outputs": [],
   "source": [
    "import torch\n",
    "import torch.nn as nn\n",
    "import torch.optim as optim\n",
    "from torch_geometric.data import Dataset, Data, DataLoader\n",
    "from torch_geometric.nn import SAGEConv, global_mean_pool\n",
    "import os\n",
    "import pandas as pd\n",
    "import numpy\n",
    "import glob\n",
    "import networkx as nx\n",
    "import torch.nn.functional as F\n",
    "import torch_geometric.transforms as T\n",
    "from torch_geometric.nn import GCNConv, global_mean_pool, GraphConv, GINConv, MLP, GATConv\n",
    "from tqdm import tqdm as tqdm_bar"
   ]
  },
  {
   "cell_type": "code",
   "execution_count": 2,
   "metadata": {},
   "outputs": [],
   "source": [
    "import torch.nn.functional as F\n",
    "from torch.nn import Linear\n",
    "\n",
    "import torch_geometric.transforms as T\n",
    "from torch_geometric.datasets import Planetoid\n",
    "from torch_geometric.logging import init_wandb, log\n",
    "from torch_geometric.nn import GATConv\n",
    "from torch_geometric.data import Data, Dataset, DataLoader\n",
    "from torch_geometric.utils import from_networkx\n",
    "from torch_geometric.nn import global_mean_pool"
   ]
  },
  {
   "cell_type": "markdown",
   "metadata": {},
   "source": [
    "# Importing Data"
   ]
  },
  {
   "cell_type": "code",
   "execution_count": 3,
   "metadata": {},
   "outputs": [],
   "source": [
    "class CustomGraphDataset(Dataset):\n",
    "    def __init__(self, root, transform=None, pre_transform=None):\n",
    "        super(CustomGraphDataset, self).__init__(root, transform, pre_transform)\n",
    "        self.root_folder = root\n",
    "        self.categories = os.listdir(self.root_folder)\n",
    "\n",
    "    @property\n",
    "    def raw_file_names(self):\n",
    "        file_names = []\n",
    "        for label in os.listdir(self.root):\n",
    "            curr_path = os.path.join(self.root, label)\n",
    "            edge_folder = os.path.join(curr_path, \"edges\")\n",
    "            node_folder = os.path.join(curr_path, \"nodes\")\n",
    "            for graph in os.listdir(edge_folder):\n",
    "                edge_path = os.path.join(edge_folder, graph)\n",
    "                node_name = graph[:-10]\n",
    "                node_name += \".nodes.csv\"\n",
    "                node_path = os.path.join(node_folder, node_name)\n",
    "                file_names.append((edge_path, node_path, label))\n",
    "        return file_names\n",
    "\n",
    "    def len(self):\n",
    "        return len(self.raw_file_names)\n",
    "    \n",
    "    def class_mapping(self, label):\n",
    "        mapping = {'n01440764': 0,\n",
    "                   'n02102040': 1,\n",
    "                   'n02979186': 2,\n",
    "                   'n03000684': 3,\n",
    "                   'n03028079': 4,\n",
    "                   'n03394916': 5,\n",
    "                   'n03417042': 6,\n",
    "                   'n03425413': 7,\n",
    "                   'n03445777': 8,\n",
    "                   'n03888257': 9}\n",
    "        return mapping[label]\n",
    "\n",
    "    def get(self, idx):\n",
    "        edge_path, node_path, label = self.raw_file_names[idx]\n",
    "\n",
    "        edges = pd.read_csv(edge_path)\n",
    "        nodes = pd.read_csv(node_path)\n",
    "        nodes = nodes.drop(columns=[\"id\"])\n",
    "\n",
    "        x = torch.tensor(nodes.values, dtype=torch.float)\n",
    "        edge_index = torch.tensor(edges[['node_1', 'node_2']].values, dtype=torch.long).t().contiguous()\n",
    "        edge_weight = torch.tensor(edges['weight'].values, dtype=torch.float)\n",
    "\n",
    "        label = self.class_mapping(label)\n",
    "        label = torch.tensor(label)\n",
    "\n",
    "        data = Data(x=x, edge_index=edge_index, edge_attr=edge_weight, y=label)\n",
    "        return data"
   ]
  },
  {
   "cell_type": "code",
   "execution_count": 4,
   "metadata": {},
   "outputs": [],
   "source": [
    "#train_root = \"data\\\\train\"\n",
    "#val_root = \"data\\\\val\"\n",
    "train_root = \"orb_knn\\\\train\"\n",
    "val_root = \"orb_knn\\\\val\"\n",
    "train_dataset = CustomGraphDataset(train_root)\n",
    "val_dataset = CustomGraphDataset(val_root)"
   ]
  },
  {
   "cell_type": "code",
   "execution_count": 5,
   "metadata": {},
   "outputs": [
    {
     "name": "stdout",
     "output_type": "stream",
     "text": [
      "Data(x=[477, 34], edge_index=[2, 1908], edge_attr=[1908], y=0)\n"
     ]
    }
   ],
   "source": [
    "for x in train_dataset:\n",
    "    print(x)\n",
    "    break"
   ]
  },
  {
   "cell_type": "code",
   "execution_count": 6,
   "metadata": {},
   "outputs": [
    {
     "name": "stderr",
     "output_type": "stream",
     "text": [
      "c:\\Users\\Shaan\\miniconda3\\envs\\proj\\lib\\site-packages\\torch_geometric\\deprecation.py:22: UserWarning: 'data.DataLoader' is deprecated, use 'loader.DataLoader' instead\n",
      "  warnings.warn(out)\n"
     ]
    }
   ],
   "source": [
    "train_loader = DataLoader(train_dataset, batch_size=64, shuffle=True)\n",
    "val_loader = DataLoader(val_dataset, batch_size=64, shuffle=True)"
   ]
  },
  {
   "cell_type": "code",
   "execution_count": 7,
   "metadata": {},
   "outputs": [
    {
     "name": "stdout",
     "output_type": "stream",
     "text": [
      "DataBatch(x=[29902, 34], edge_index=[2, 119608], edge_attr=[119608], y=[64], batch=[29902], ptr=[65])\n"
     ]
    }
   ],
   "source": [
    "for x in train_loader:\n",
    "    print(x)\n",
    "    break"
   ]
  },
  {
   "cell_type": "code",
   "execution_count": 8,
   "metadata": {},
   "outputs": [],
   "source": [
    "device = torch.device('cuda' if torch.cuda.is_available() else 'cpu')"
   ]
  },
  {
   "cell_type": "markdown",
   "metadata": {},
   "source": [
    "# Testing Graph Algos"
   ]
  },
  {
   "cell_type": "markdown",
   "metadata": {},
   "source": [
    "## Basic GCN"
   ]
  },
  {
   "cell_type": "code",
   "execution_count": 9,
   "metadata": {},
   "outputs": [],
   "source": [
    "class SimpleGCN(nn.Module):\n",
    "    def __init__(self, in_channels, hidden_channels, out_channels, num_classes):\n",
    "        super(SimpleGCN, self).__init__()\n",
    "        self.conv1 = GCNConv(in_channels, hidden_channels)\n",
    "        self.conv2 = GCNConv(hidden_channels, out_channels)\n",
    "        self.lin1 = Linear(out_channels, int(out_channels/2))\n",
    "        self.lin2 = Linear(int(out_channels/2), num_classes)\n",
    "        \n",
    "    def forward(self, data):\n",
    "        x, edge_index, edge_attr, batch = data.x, data.edge_index, data.edge_attr, data.batch\n",
    "        x = self.conv1(x, edge_index, edge_attr)\n",
    "        x = torch.relu(x)\n",
    "        x = self.conv2(x, edge_index, edge_attr)\n",
    "        x = global_mean_pool(x, batch)\n",
    "        x = self.lin1(x)\n",
    "        x = F.dropout(x, p=.5)\n",
    "        x = self.lin2(x)\n",
    "        return x"
   ]
  },
  {
   "cell_type": "code",
   "execution_count": null,
   "metadata": {},
   "outputs": [],
   "source": [
    "class GraphSAGEModel(nn.Module):\n",
    "    def __init__(self, in_channels, hidden_channels, out_channels, num_classes):\n",
    "        super(GraphSAGEModel, self).__init__()\n",
    "        self.conv1 = SAGEConv(in_channels, hidden_channels)\n",
    "        self.conv2 = SAGEConv(hidden_channels, out_channels)\n",
    "        self.lin1 = Linear(out_channels, int(out_channels/2))\n",
    "        self.lin2 = Linear(int(out_channels/2), num_classes)\n",
    "\n",
    "    def forward(self, data):\n",
    "        x, edge_index, batch = data.x, data.edge_index, data.batch\n",
    "        x = F.relu(self.conv1(x, edge_index))\n",
    "        x = F.relu(self.conv2(x, edge_index))\n",
    "        x = global_mean_pool(x, batch)\n",
    "        x = self.lin1(x)\n",
    "        x = F.dropout(x, p=.5)\n",
    "        x = self.lin2(x)\n",
    "        return x"
   ]
  },
  {
   "cell_type": "code",
   "execution_count": null,
   "metadata": {},
   "outputs": [],
   "source": [
    "class GAT(nn.Module):\n",
    "    def __init__(self, in_channels, hidden_channels, out_channels, num_classes):\n",
    "        super(GAT, self).__init__()\n",
    "        self.conv1 = GATConv(in_channels, hidden_channels)\n",
    "        self.conv2 = GATConv(hidden_channels, out_channels)\n",
    "        self.lin1 = Linear(out_channels, int(out_channels/2))\n",
    "        self.lin2 = Linear(int(out_channels/2), num_classes)\n",
    "        \n",
    "    def forward(self, data):\n",
    "        x, edge_index = data.x, data.edge_index\n",
    "        x = F.relu(self.conv1(x, edge_index))\n",
    "        x = F.dropout(x, p=0.5, training=self.training)\n",
    "        x = self.conv2(x, edge_index)\n",
    "        x = global_mean_pool(x, data.batch)\n",
    "        x = F.dropout(self.lin1(x), .5)\n",
    "        x = self.lin2(x)\n",
    "        return x"
   ]
  },
  {
   "cell_type": "code",
   "execution_count": null,
   "metadata": {},
   "outputs": [],
   "source": [
    "class GIN(nn.Module):\n",
    "    def __init__(self, in_channels, hidden_channels, out_channels, num_classes):\n",
    "        super(GIN, self).__init__()\n",
    "        mlp1 = MLP([in_channels, hidden_channels, hidden_channels])\n",
    "        mlp2 = MLP([hidden_channels, hidden_channels, out_channels])\n",
    "        self.conv1 = GINConv(mlp1)\n",
    "        self.conv2 = GINConv(mlp2)\n",
    "        self.lin1 = Linear(out_channels, int(out_channels/2))\n",
    "        self.lin2 = Linear(int(out_channels/2), num_classes)\n",
    "        \n",
    "    def forward(self, data):\n",
    "        x, edge_index = data.x, data.edge_index\n",
    "        x = F.relu(self.conv1(x, edge_index))\n",
    "        x = F.dropout(x, p=0.5, training=self.training)\n",
    "        x = self.conv2(x, edge_index)\n",
    "        x = global_mean_pool(x, data.batch)\n",
    "        x = F.dropout(self.lin1(x), .5)\n",
    "        x = self.lin2(x)\n",
    "        return x"
   ]
  },
  {
   "cell_type": "code",
   "execution_count": 10,
   "metadata": {},
   "outputs": [
    {
     "data": {
      "text/plain": [
       "device(type='cuda')"
      ]
     },
     "execution_count": 10,
     "metadata": {},
     "output_type": "execute_result"
    }
   ],
   "source": [
    "device = torch.device('cuda' if torch.cuda.is_available() else 'cpu')\n",
    "device"
   ]
  },
  {
   "cell_type": "code",
   "execution_count": 11,
   "metadata": {},
   "outputs": [],
   "source": [
    "model = SimpleGCN(in_channels=train_dataset.num_features, hidden_channels=1024, out_channels=512, num_classes=10).to(device)\n",
    "criterion = nn.CrossEntropyLoss()\n",
    "optimizer = optim.Adam(model.parameters(), lr=0.001)"
   ]
  },
  {
   "cell_type": "code",
   "execution_count": null,
   "metadata": {},
   "outputs": [],
   "source": [
    "# Training loop\n",
    "num_epochs = 200\n",
    "best_acc = 0\n",
    "\n",
    "for epoch in range(num_epochs):\n",
    "    # Training\n",
    "    model.train()\n",
    "    total_train_loss = 0\n",
    "    train_correct = 0\n",
    "    train_samples = 0\n",
    "    for batch in tqdm_bar(train_loader, desc=f'Epoch {epoch + 1}/{num_epochs}', leave=False):\n",
    "        optimizer.zero_grad()\n",
    "        batch = batch.to(device)\n",
    "        \n",
    "        output = model(batch)\n",
    "\n",
    "        loss = F.cross_entropy(output, batch.y)\n",
    "        \n",
    "        loss.backward()\n",
    "        optimizer.step()\n",
    "        total_train_loss += loss.item()\n",
    "\n",
    "        pred = torch.argmax(F.sigmoid(output), dim=1)\n",
    "        train_correct += (pred == batch.y).sum().item()\n",
    "        train_samples += len(batch.y)\n",
    "\n",
    "    train_loss = total_train_loss / len(train_loader)\n",
    "    train_acc = train_correct/train_samples\n",
    "    \n",
    "    # Validation\n",
    "    model.eval()\n",
    "    val_correct = 0\n",
    "    val_samples = 0\n",
    "    total_val_loss = 0\n",
    "    with torch.no_grad():\n",
    "        for batch in tqdm_bar(val_loader, desc='Validation', leave=False):\n",
    "            batch = batch.to(device)\n",
    "\n",
    "            output = model(batch)\n",
    "\n",
    "            loss = F.cross_entropy(output, batch.y)\n",
    "            total_val_loss += loss.item()\n",
    "\n",
    "            pred = torch.argmax(F.sigmoid(output), dim=1)\n",
    "            val_correct += (pred == batch.y).sum().item()\n",
    "            val_samples += len(batch.y)\n",
    "\n",
    "    val_loss = total_val_loss / len(val_loader)\n",
    "    val_accuracy = val_correct / val_samples\n",
    "    \n",
    "    # Save the best model\n",
    "    if val_accuracy > best_acc:\n",
    "        best_acc = val_accuracy\n",
    "        torch.save(model.state_dict(), \"basic_test_GCN.pth\")\n",
    "    \n",
    "    print(f\"Epoch {epoch + 1}: Train Acc: {train_acc}, Train Loss: {train_loss}, Val Acc: {val_accuracy}, Val Loss: {val_loss}\")\n",
    "    "
   ]
  },
  {
   "cell_type": "code",
   "execution_count": null,
   "metadata": {},
   "outputs": [],
   "source": []
  }
 ],
 "metadata": {
  "kernelspec": {
   "display_name": "proj1",
   "language": "python",
   "name": "python3"
  },
  "language_info": {
   "codemirror_mode": {
    "name": "ipython",
    "version": 3
   },
   "file_extension": ".py",
   "mimetype": "text/x-python",
   "name": "python",
   "nbconvert_exporter": "python",
   "pygments_lexer": "ipython3",
   "version": "3.9.18"
  }
 },
 "nbformat": 4,
 "nbformat_minor": 2
}
